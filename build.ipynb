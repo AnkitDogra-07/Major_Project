{
 "cells": [
  {
   "cell_type": "code",
   "execution_count": 2,
   "metadata": {},
   "outputs": [
    {
     "name": "stdout",
     "output_type": "stream",
     "text": [
      "Overall FPS: 0.00\n"
     ]
    }
   ],
   "source": [
    "import cv2\n",
    "import time\n",
    "import torch\n",
    "import numpy as np\n",
    "from customMTCNN import CustomMTCNN  # Your MTCNN model\n",
    "from faceEmbedd import FaceEmbedder  # Your face embedding model\n",
    "from hybrid import HybridFaceRecognition  # Hybrid tracking system\n",
    "\n",
    "# Load models\n",
    "mtcnn = CustomMTCNN()\n",
    "embedder = FaceEmbedder()\n",
    "hybrid_system = HybridFaceRecognition(mtcnn, embedder)\n",
    "\n",
    "# Open a video source (0 = webcam)\n",
    "cap = cv2.VideoCapture(\"test_video.mp4\")  # Replace with your video file or 0 for webcam\n",
    "\n",
    "# Track performance\n",
    "start_time = time.time()\n",
    "frame_count = 0\n",
    "\n",
    "while cap.isOpened():\n",
    "    ret, frame = cap.read()\n",
    "    if not ret:\n",
    "        break\n",
    "\n",
    "    frame_count += 1\n",
    "    frame_resized = cv2.resize(frame, (640, 480))\n",
    "\n",
    "    ## 1️⃣ MTCNN Face Detection Only\n",
    "    start = time.time()\n",
    "    img_tensor = torch.from_numpy(frame_resized).permute(2, 0, 1).float().unsqueeze(0) / 255.0\n",
    "    boxes, _ = mtcnn.detect(img_tensor)\n",
    "    mtcnn_time = time.time() - start\n",
    "\n",
    "    for (x1, y1, x2, y2) in boxes:\n",
    "        cv2.rectangle(frame_resized, (int(x1), int(y1)), (int(x2), int(y2)), (0, 255, 255), 2)\n",
    "\n",
    "    ## 2️⃣ Face Embedding Model\n",
    "    start = time.time()\n",
    "    for (x1, y1, x2, y2) in boxes:\n",
    "        face_crop = frame_resized[int(y1):int(y2), int(x1):int(x2)]\n",
    "        face_tensor = torch.from_numpy(face_crop).permute(2, 0, 1).float() / 255.0\n",
    "        embedding = embedder.get_embedding(face_tensor)\n",
    "    embedding_time = time.time() - start\n",
    "\n",
    "    ## 3️⃣ Hybrid Approach: Detection + Tracking + Caching\n",
    "    start = time.time()\n",
    "    detected_faces = hybrid_system.detect_and_track(frame_resized)\n",
    "    hybrid_time = time.time() - start\n",
    "\n",
    "    for face in detected_faces:\n",
    "        x, y, w, h = [int(coord) for coord in face['bbox']]\n",
    "        cv2.rectangle(frame_resized, (x, y), (x + w, y + h), (0, 255, 0), 2)\n",
    "        cv2.putText(frame_resized, f\"Face {face['id']}\", (x, y - 10), cv2.FONT_HERSHEY_SIMPLEX, 0.5, (0, 255, 0), 2)\n",
    "\n",
    "    # Display Results\n",
    "    cv2.imshow(\"Face Detection Comparison\", frame_resized)\n",
    "\n",
    "    print(f\"Frame {frame_count} | MTCNN Time: {mtcnn_time:.3f}s | Embedding Time: {embedding_time:.3f}s | Hybrid Time: {hybrid_time:.3f}s\")\n",
    "\n",
    "    # Exit on 'q'\n",
    "    if cv2.waitKey(1) & 0xFF == ord('q'):\n",
    "        break\n",
    "\n",
    "# Compute FPS\n",
    "end_time = time.time()\n",
    "fps = frame_count / (end_time - start_time)\n",
    "print(f\"Overall FPS: {fps:.2f}\")\n",
    "\n",
    "cap.release()\n",
    "cv2.destroyAllWindows()\n"
   ]
  },
  {
   "cell_type": "code",
   "execution_count": null,
   "metadata": {},
   "outputs": [],
   "source": []
  }
 ],
 "metadata": {
  "kernelspec": {
   "display_name": "cnn_env",
   "language": "python",
   "name": "python3"
  },
  "language_info": {
   "codemirror_mode": {
    "name": "ipython",
    "version": 3
   },
   "file_extension": ".py",
   "mimetype": "text/x-python",
   "name": "python",
   "nbconvert_exporter": "python",
   "pygments_lexer": "ipython3",
   "version": "3.10.8"
  }
 },
 "nbformat": 4,
 "nbformat_minor": 2
}
